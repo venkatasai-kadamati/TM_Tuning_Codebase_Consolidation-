{
 "cells": [
  {
   "cell_type": "markdown",
   "metadata": {},
   "source": [
    "## Notebook to validate and check if outputs match 🐳\n",
    "- **Files checked**\n",
    "    - Outputs from Pete's Codebase : located in /Expected Output\n",
    "        - Tuning Tracker - ATL Calculationsv11.xlsx\n",
    "        - BTL Tuning Tracker - With Calculations.xlsx\n",
    "    - Outputs from Venkat's Codebase : located in /New Data\n",
    "        - Tuning Tracker - ATL Calculationsv11.xlsx\n",
    "        - BTL Tuning Tracker - With Calculations.xlsx"
   ]
  },
  {
   "cell_type": "code",
   "execution_count": 11,
   "metadata": {
    "ExecuteTime": {
     "end_time": "2024-04-14T17:30:21.616563Z",
     "start_time": "2024-04-14T17:30:21.605280Z"
    }
   },
   "outputs": [],
   "source": [
    "import pandas as pd\n",
    "\n",
    "# peter_output_atl = pd.read_excel(\"C:/Users/kadam/Documents/TM_Tuning_Codebase_Consolidation/Expected Output/Tuning Tracker - ATL Calculationsv11.xlsx\")\n",
    "peter_output_btl = pd.read_excel(r\"C:\\Users\\kadam\\Documents\\TM_Tuning_Codebase_Consolidation\\New Data\\Production BTL Tuning Tracker - With Calculations.xlsx\")\n",
    "\n",
    "# venkat_output_atl = pd.read_excel(\"C:/Users/kadam/Documents/TM_Tuning_Codebase_Consolidation/New Data/Actimize Tuning Tracker - ATL Calculations.xlsx\")\n",
    "venkat_output_btl = pd.read_excel(\"C:/Users/kadam/Documents/TM_Tuning_Codebase_Consolidation/New Data/latest_output_btl.xlsx\")\n",
    "\n"
   ]
  },
  {
   "cell_type": "markdown",
   "metadata": {},
   "source": [
    "Validation of data loading"
   ]
  },
  {
   "cell_type": "code",
   "execution_count": 4,
   "metadata": {},
   "outputs": [
    {
     "ename": "NameError",
     "evalue": "name 'peter_output_atl' is not defined",
     "output_type": "error",
     "traceback": [
      "\u001b[1;31m---------------------------------------------------------------------------\u001b[0m",
      "\u001b[1;31mNameError\u001b[0m                                 Traceback (most recent call last)",
      "Cell \u001b[1;32mIn[4], line 1\u001b[0m\n\u001b[1;32m----> 1\u001b[0m peter_output_atl \u001b[38;5;241m=\u001b[39m \u001b[43mpeter_output_atl\u001b[49m\u001b[38;5;241m.\u001b[39mdropna(axis\u001b[38;5;241m=\u001b[39m\u001b[38;5;241m1\u001b[39m, how\u001b[38;5;241m=\u001b[39m\u001b[38;5;124m'\u001b[39m\u001b[38;5;124mall\u001b[39m\u001b[38;5;124m'\u001b[39m)\n",
      "\u001b[1;31mNameError\u001b[0m: name 'peter_output_atl' is not defined"
     ]
    }
   ],
   "source": []
  },
  {
   "cell_type": "markdown",
   "metadata": {},
   "source": [
    "### Comparison of ATL and BTL Outputs:\n"
   ]
  },
  {
   "cell_type": "code",
   "execution_count": 6,
   "metadata": {},
   "outputs": [
    {
     "name": "stdout",
     "output_type": "stream",
     "text": [
      "Are the BTL outputs the same? False\n"
     ]
    }
   ],
   "source": [
    "\n",
    "\n",
    "# Compare BTL outputs\n",
    "btl_comparison = peter_output_btl.equals(venkat_output_btl)\n",
    "print(\"Are the BTL outputs the same?\", btl_comparison)\n",
    "\n"
   ]
  },
  {
   "cell_type": "code",
   "execution_count": 7,
   "metadata": {},
   "outputs": [
    {
     "ename": "ValueError",
     "evalue": "Can only compare identically-labeled (both index and columns) DataFrame objects",
     "output_type": "error",
     "traceback": [
      "\u001b[1;31m---------------------------------------------------------------------------\u001b[0m",
      "\u001b[1;31mValueError\u001b[0m                                Traceback (most recent call last)",
      "\u001b[1;32m~\\AppData\\Local\\Temp\\ipykernel_12164\\3983799824.py\u001b[0m in \u001b[0;36m?\u001b[1;34m()\u001b[0m\n\u001b[0;32m      1\u001b[0m \u001b[1;31m# Find differences in BTL outputs\u001b[0m\u001b[1;33m\u001b[0m\u001b[1;33m\u001b[0m\u001b[0m\n\u001b[0;32m      2\u001b[0m \u001b[1;32mif\u001b[0m \u001b[1;32mnot\u001b[0m \u001b[0mbtl_comparison\u001b[0m\u001b[1;33m:\u001b[0m\u001b[1;33m\u001b[0m\u001b[1;33m\u001b[0m\u001b[0m\n\u001b[1;32m----> 3\u001b[1;33m     \u001b[0mbtl_differences\u001b[0m \u001b[1;33m=\u001b[0m \u001b[0mpeter_output_btl\u001b[0m\u001b[1;33m.\u001b[0m\u001b[0mcompare\u001b[0m\u001b[1;33m(\u001b[0m\u001b[0mvenkat_output_btl\u001b[0m\u001b[1;33m)\u001b[0m\u001b[1;33m\u001b[0m\u001b[1;33m\u001b[0m\u001b[0m\n\u001b[0m\u001b[0;32m      4\u001b[0m     \u001b[0mprint\u001b[0m\u001b[1;33m(\u001b[0m\u001b[1;34m\"Differences in BTL outputs:\"\u001b[0m\u001b[1;33m)\u001b[0m\u001b[1;33m\u001b[0m\u001b[1;33m\u001b[0m\u001b[0m\n\u001b[0;32m      5\u001b[0m     \u001b[0mprint\u001b[0m\u001b[1;33m(\u001b[0m\u001b[0mbtl_differences\u001b[0m\u001b[1;33m)\u001b[0m\u001b[1;33m\u001b[0m\u001b[1;33m\u001b[0m\u001b[0m\n",
      "\u001b[1;32mc:\\Users\\kadam\\AppData\\Local\\Programs\\Python\\Python312\\Lib\\site-packages\\pandas\\core\\frame.py\u001b[0m in \u001b[0;36m?\u001b[1;34m(self, other, align_axis, keep_shape, keep_equal, result_names)\u001b[0m\n\u001b[0;32m   8576\u001b[0m         \u001b[0mkeep_shape\u001b[0m\u001b[1;33m:\u001b[0m \u001b[0mbool\u001b[0m \u001b[1;33m=\u001b[0m \u001b[1;32mFalse\u001b[0m\u001b[1;33m,\u001b[0m\u001b[1;33m\u001b[0m\u001b[1;33m\u001b[0m\u001b[0m\n\u001b[0;32m   8577\u001b[0m         \u001b[0mkeep_equal\u001b[0m\u001b[1;33m:\u001b[0m \u001b[0mbool\u001b[0m \u001b[1;33m=\u001b[0m \u001b[1;32mFalse\u001b[0m\u001b[1;33m,\u001b[0m\u001b[1;33m\u001b[0m\u001b[1;33m\u001b[0m\u001b[0m\n\u001b[0;32m   8578\u001b[0m         \u001b[0mresult_names\u001b[0m\u001b[1;33m:\u001b[0m \u001b[0mSuffixes\u001b[0m \u001b[1;33m=\u001b[0m \u001b[1;33m(\u001b[0m\u001b[1;34m\"self\"\u001b[0m\u001b[1;33m,\u001b[0m \u001b[1;34m\"other\"\u001b[0m\u001b[1;33m)\u001b[0m\u001b[1;33m,\u001b[0m\u001b[1;33m\u001b[0m\u001b[1;33m\u001b[0m\u001b[0m\n\u001b[0;32m   8579\u001b[0m     \u001b[1;33m)\u001b[0m \u001b[1;33m->\u001b[0m \u001b[0mDataFrame\u001b[0m\u001b[1;33m:\u001b[0m\u001b[1;33m\u001b[0m\u001b[1;33m\u001b[0m\u001b[0m\n\u001b[1;32m-> 8580\u001b[1;33m         return super().compare(\n\u001b[0m\u001b[0;32m   8581\u001b[0m             \u001b[0mother\u001b[0m\u001b[1;33m=\u001b[0m\u001b[0mother\u001b[0m\u001b[1;33m,\u001b[0m\u001b[1;33m\u001b[0m\u001b[1;33m\u001b[0m\u001b[0m\n\u001b[0;32m   8582\u001b[0m             \u001b[0malign_axis\u001b[0m\u001b[1;33m=\u001b[0m\u001b[0malign_axis\u001b[0m\u001b[1;33m,\u001b[0m\u001b[1;33m\u001b[0m\u001b[1;33m\u001b[0m\u001b[0m\n\u001b[0;32m   8583\u001b[0m             \u001b[0mkeep_shape\u001b[0m\u001b[1;33m=\u001b[0m\u001b[0mkeep_shape\u001b[0m\u001b[1;33m,\u001b[0m\u001b[1;33m\u001b[0m\u001b[1;33m\u001b[0m\u001b[0m\n",
      "\u001b[1;32mc:\\Users\\kadam\\AppData\\Local\\Programs\\Python\\Python312\\Lib\\site-packages\\pandas\\core\\generic.py\u001b[0m in \u001b[0;36m?\u001b[1;34m(self, other, align_axis, keep_shape, keep_equal, result_names)\u001b[0m\n\u001b[0;32m  10114\u001b[0m             raise TypeError(\n\u001b[0;32m  10115\u001b[0m                 \u001b[1;33mf\"\u001b[0m\u001b[1;33mcan only compare '\u001b[0m\u001b[1;33m{\u001b[0m\u001b[0mcls_self\u001b[0m\u001b[1;33m}\u001b[0m\u001b[1;33m' (not '\u001b[0m\u001b[1;33m{\u001b[0m\u001b[0mcls_other\u001b[0m\u001b[1;33m}\u001b[0m\u001b[1;33m') with '\u001b[0m\u001b[1;33m{\u001b[0m\u001b[0mcls_self\u001b[0m\u001b[1;33m}\u001b[0m\u001b[1;33m'\u001b[0m\u001b[1;33m\"\u001b[0m\u001b[1;33m\u001b[0m\u001b[1;33m\u001b[0m\u001b[0m\n\u001b[0;32m  10116\u001b[0m             \u001b[1;33m)\u001b[0m\u001b[1;33m\u001b[0m\u001b[1;33m\u001b[0m\u001b[0m\n\u001b[0;32m  10117\u001b[0m \u001b[1;33m\u001b[0m\u001b[0m\n\u001b[1;32m> 10118\u001b[1;33m         \u001b[0mmask\u001b[0m \u001b[1;33m=\u001b[0m \u001b[1;33m~\u001b[0m\u001b[1;33m(\u001b[0m\u001b[1;33m(\u001b[0m\u001b[0mself\u001b[0m \u001b[1;33m==\u001b[0m \u001b[0mother\u001b[0m\u001b[1;33m)\u001b[0m \u001b[1;33m|\u001b[0m \u001b[1;33m(\u001b[0m\u001b[0mself\u001b[0m\u001b[1;33m.\u001b[0m\u001b[0misna\u001b[0m\u001b[1;33m(\u001b[0m\u001b[1;33m)\u001b[0m \u001b[1;33m&\u001b[0m \u001b[0mother\u001b[0m\u001b[1;33m.\u001b[0m\u001b[0misna\u001b[0m\u001b[1;33m(\u001b[0m\u001b[1;33m)\u001b[0m\u001b[1;33m)\u001b[0m\u001b[1;33m)\u001b[0m\u001b[1;33m\u001b[0m\u001b[1;33m\u001b[0m\u001b[0m\n\u001b[0m\u001b[0;32m  10119\u001b[0m         \u001b[0mmask\u001b[0m\u001b[1;33m.\u001b[0m\u001b[0mfillna\u001b[0m\u001b[1;33m(\u001b[0m\u001b[1;32mTrue\u001b[0m\u001b[1;33m,\u001b[0m \u001b[0minplace\u001b[0m\u001b[1;33m=\u001b[0m\u001b[1;32mTrue\u001b[0m\u001b[1;33m)\u001b[0m\u001b[1;33m\u001b[0m\u001b[1;33m\u001b[0m\u001b[0m\n\u001b[0;32m  10120\u001b[0m \u001b[1;33m\u001b[0m\u001b[0m\n\u001b[0;32m  10121\u001b[0m         \u001b[1;32mif\u001b[0m \u001b[1;32mnot\u001b[0m \u001b[0mkeep_equal\u001b[0m\u001b[1;33m:\u001b[0m\u001b[1;33m\u001b[0m\u001b[1;33m\u001b[0m\u001b[0m\n",
      "\u001b[1;32mc:\\Users\\kadam\\AppData\\Local\\Programs\\Python\\Python312\\Lib\\site-packages\\pandas\\core\\ops\\common.py\u001b[0m in \u001b[0;36m?\u001b[1;34m(self, other)\u001b[0m\n\u001b[0;32m     72\u001b[0m                     \u001b[1;32mreturn\u001b[0m \u001b[0mNotImplemented\u001b[0m\u001b[1;33m\u001b[0m\u001b[1;33m\u001b[0m\u001b[0m\n\u001b[0;32m     73\u001b[0m \u001b[1;33m\u001b[0m\u001b[0m\n\u001b[0;32m     74\u001b[0m         \u001b[0mother\u001b[0m \u001b[1;33m=\u001b[0m \u001b[0mitem_from_zerodim\u001b[0m\u001b[1;33m(\u001b[0m\u001b[0mother\u001b[0m\u001b[1;33m)\u001b[0m\u001b[1;33m\u001b[0m\u001b[1;33m\u001b[0m\u001b[0m\n\u001b[0;32m     75\u001b[0m \u001b[1;33m\u001b[0m\u001b[0m\n\u001b[1;32m---> 76\u001b[1;33m         \u001b[1;32mreturn\u001b[0m \u001b[0mmethod\u001b[0m\u001b[1;33m(\u001b[0m\u001b[0mself\u001b[0m\u001b[1;33m,\u001b[0m \u001b[0mother\u001b[0m\u001b[1;33m)\u001b[0m\u001b[1;33m\u001b[0m\u001b[1;33m\u001b[0m\u001b[0m\n\u001b[0m",
      "\u001b[1;32mc:\\Users\\kadam\\AppData\\Local\\Programs\\Python\\Python312\\Lib\\site-packages\\pandas\\core\\arraylike.py\u001b[0m in \u001b[0;36m?\u001b[1;34m(self, other)\u001b[0m\n\u001b[0;32m     38\u001b[0m     \u001b[1;33m@\u001b[0m\u001b[0munpack_zerodim_and_defer\u001b[0m\u001b[1;33m(\u001b[0m\u001b[1;34m\"__eq__\"\u001b[0m\u001b[1;33m)\u001b[0m\u001b[1;33m\u001b[0m\u001b[1;33m\u001b[0m\u001b[0m\n\u001b[0;32m     39\u001b[0m     \u001b[1;32mdef\u001b[0m \u001b[0m__eq__\u001b[0m\u001b[1;33m(\u001b[0m\u001b[0mself\u001b[0m\u001b[1;33m,\u001b[0m \u001b[0mother\u001b[0m\u001b[1;33m)\u001b[0m\u001b[1;33m:\u001b[0m\u001b[1;33m\u001b[0m\u001b[1;33m\u001b[0m\u001b[0m\n\u001b[1;32m---> 40\u001b[1;33m         \u001b[1;32mreturn\u001b[0m \u001b[0mself\u001b[0m\u001b[1;33m.\u001b[0m\u001b[0m_cmp_method\u001b[0m\u001b[1;33m(\u001b[0m\u001b[0mother\u001b[0m\u001b[1;33m,\u001b[0m \u001b[0moperator\u001b[0m\u001b[1;33m.\u001b[0m\u001b[0meq\u001b[0m\u001b[1;33m)\u001b[0m\u001b[1;33m\u001b[0m\u001b[1;33m\u001b[0m\u001b[0m\n\u001b[0m",
      "\u001b[1;32mc:\\Users\\kadam\\AppData\\Local\\Programs\\Python\\Python312\\Lib\\site-packages\\pandas\\core\\frame.py\u001b[0m in \u001b[0;36m?\u001b[1;34m(self, other, op)\u001b[0m\n\u001b[0;32m   7881\u001b[0m     \u001b[1;32mdef\u001b[0m \u001b[0m_cmp_method\u001b[0m\u001b[1;33m(\u001b[0m\u001b[0mself\u001b[0m\u001b[1;33m,\u001b[0m \u001b[0mother\u001b[0m\u001b[1;33m,\u001b[0m \u001b[0mop\u001b[0m\u001b[1;33m)\u001b[0m\u001b[1;33m:\u001b[0m\u001b[1;33m\u001b[0m\u001b[1;33m\u001b[0m\u001b[0m\n\u001b[0;32m   7882\u001b[0m         \u001b[0maxis\u001b[0m\u001b[1;33m:\u001b[0m \u001b[0mLiteral\u001b[0m\u001b[1;33m[\u001b[0m\u001b[1;36m1\u001b[0m\u001b[1;33m]\u001b[0m \u001b[1;33m=\u001b[0m \u001b[1;36m1\u001b[0m  \u001b[1;31m# only relevant for Series other case\u001b[0m\u001b[1;33m\u001b[0m\u001b[1;33m\u001b[0m\u001b[0m\n\u001b[0;32m   7883\u001b[0m \u001b[1;33m\u001b[0m\u001b[0m\n\u001b[1;32m-> 7884\u001b[1;33m         \u001b[0mself\u001b[0m\u001b[1;33m,\u001b[0m \u001b[0mother\u001b[0m \u001b[1;33m=\u001b[0m \u001b[0mself\u001b[0m\u001b[1;33m.\u001b[0m\u001b[0m_align_for_op\u001b[0m\u001b[1;33m(\u001b[0m\u001b[0mother\u001b[0m\u001b[1;33m,\u001b[0m \u001b[0maxis\u001b[0m\u001b[1;33m,\u001b[0m \u001b[0mflex\u001b[0m\u001b[1;33m=\u001b[0m\u001b[1;32mFalse\u001b[0m\u001b[1;33m,\u001b[0m \u001b[0mlevel\u001b[0m\u001b[1;33m=\u001b[0m\u001b[1;32mNone\u001b[0m\u001b[1;33m)\u001b[0m\u001b[1;33m\u001b[0m\u001b[1;33m\u001b[0m\u001b[0m\n\u001b[0m\u001b[0;32m   7885\u001b[0m \u001b[1;33m\u001b[0m\u001b[0m\n\u001b[0;32m   7886\u001b[0m         \u001b[1;31m# See GH#4537 for discussion of scalar op behavior\u001b[0m\u001b[1;33m\u001b[0m\u001b[1;33m\u001b[0m\u001b[0m\n\u001b[0;32m   7887\u001b[0m         \u001b[0mnew_data\u001b[0m \u001b[1;33m=\u001b[0m \u001b[0mself\u001b[0m\u001b[1;33m.\u001b[0m\u001b[0m_dispatch_frame_op\u001b[0m\u001b[1;33m(\u001b[0m\u001b[0mother\u001b[0m\u001b[1;33m,\u001b[0m \u001b[0mop\u001b[0m\u001b[1;33m,\u001b[0m \u001b[0maxis\u001b[0m\u001b[1;33m=\u001b[0m\u001b[0maxis\u001b[0m\u001b[1;33m)\u001b[0m\u001b[1;33m\u001b[0m\u001b[1;33m\u001b[0m\u001b[0m\n",
      "\u001b[1;32mc:\\Users\\kadam\\AppData\\Local\\Programs\\Python\\Python312\\Lib\\site-packages\\pandas\\core\\frame.py\u001b[0m in \u001b[0;36m?\u001b[1;34m(self, other, axis, flex, level)\u001b[0m\n\u001b[0;32m   8179\u001b[0m                     left, right = left.align(\n\u001b[0;32m   8180\u001b[0m                         \u001b[0mright\u001b[0m\u001b[1;33m,\u001b[0m \u001b[0mjoin\u001b[0m\u001b[1;33m=\u001b[0m\u001b[1;34m\"outer\"\u001b[0m\u001b[1;33m,\u001b[0m \u001b[0mlevel\u001b[0m\u001b[1;33m=\u001b[0m\u001b[0mlevel\u001b[0m\u001b[1;33m,\u001b[0m \u001b[0mcopy\u001b[0m\u001b[1;33m=\u001b[0m\u001b[1;32mFalse\u001b[0m\u001b[1;33m\u001b[0m\u001b[1;33m\u001b[0m\u001b[0m\n\u001b[0;32m   8181\u001b[0m                     \u001b[1;33m)\u001b[0m\u001b[1;33m\u001b[0m\u001b[1;33m\u001b[0m\u001b[0m\n\u001b[0;32m   8182\u001b[0m                 \u001b[1;32melse\u001b[0m\u001b[1;33m:\u001b[0m\u001b[1;33m\u001b[0m\u001b[1;33m\u001b[0m\u001b[0m\n\u001b[1;32m-> 8183\u001b[1;33m                     raise ValueError(\n\u001b[0m\u001b[0;32m   8184\u001b[0m                         \u001b[1;34m\"Can only compare identically-labeled (both index and columns) \"\u001b[0m\u001b[1;33m\u001b[0m\u001b[1;33m\u001b[0m\u001b[0m\n\u001b[0;32m   8185\u001b[0m                         \u001b[1;34m\"DataFrame objects\"\u001b[0m\u001b[1;33m\u001b[0m\u001b[1;33m\u001b[0m\u001b[0m\n\u001b[0;32m   8186\u001b[0m                     \u001b[1;33m)\u001b[0m\u001b[1;33m\u001b[0m\u001b[1;33m\u001b[0m\u001b[0m\n",
      "\u001b[1;31mValueError\u001b[0m: Can only compare identically-labeled (both index and columns) DataFrame objects"
     ]
    }
   ],
   "source": [
    "\n",
    "# Find differences in BTL outputs\n",
    "if not btl_comparison:\n",
    "    btl_differences = peter_output_btl.compare(venkat_output_btl)\n",
    "    print(\"Differences in BTL outputs:\")\n",
    "    print(btl_differences)\n"
   ]
  },
  {
   "cell_type": "code",
   "execution_count": 10,
   "metadata": {},
   "outputs": [
    {
     "name": "stdout",
     "output_type": "stream",
     "text": [
      "Structure of Peter's ATL DataFrame:\n",
      "<class 'pandas.core.frame.DataFrame'>\n",
      "RangeIndex: 135 entries, 0 to 134\n",
      "Data columns (total 37 columns):\n",
      " #   Column                               Non-Null Count  Dtype  \n",
      "---  ------                               --------------  -----  \n",
      " 0   Rule Name                            135 non-null    object \n",
      " 1   Rule ID                              135 non-null    object \n",
      " 2   Population Group                     135 non-null    object \n",
      " 3   Parameter                            135 non-null    object \n",
      " 4   Is Tunable                           135 non-null    object \n",
      " 5   Parameter Type                       135 non-null    object \n",
      " 6   Operator                             135 non-null    object \n",
      " 7   ATL/BTL                              135 non-null    object \n",
      " 8   High/Low Priority                    135 non-null    object \n",
      " 9   Tuning Decision                      135 non-null    object \n",
      " 10  Current Threshold                    135 non-null    float64\n",
      " 11  Recommended Threshold                135 non-null    float64\n",
      " 12  Rationale                            135 non-null    object \n",
      " 13  SAR Attribution Analysis (Y/N)       135 non-null    object \n",
      " 14  AML Comments                         1 non-null      float64\n",
      " 15  Date Range                           135 non-null    object \n",
      " 16  Num Alerts Extracted                 135 non-null    int64  \n",
      " 17  SARs Filed                           135 non-null    int64  \n",
      " 18  Interesting Alerts                   135 non-null    int64  \n",
      " 19  Not Interesting Alerts               135 non-null    int64  \n",
      " 20  Data Quality Alerts                  135 non-null    int64  \n",
      " 21  Effectiveness                        135 non-null    float64\n",
      " 22  SAR Yield                            135 non-null    float64\n",
      " 23  Prop SARs Filed                      135 non-null    int64  \n",
      " 24  Prop Interesting Alerts              135 non-null    int64  \n",
      " 25  Prop Not Interesting Alerts          135 non-null    int64  \n",
      " 26  Prop Effectiveness                   135 non-null    float64\n",
      " 27  Prop SAR Yield                       135 non-null    float64\n",
      " 28  Not Interesting Alert Reduction      135 non-null    float64\n",
      " 29  Net Effectiveness                    135 non-null    float64\n",
      " 30  Net SAR Yield                        135 non-null    float64\n",
      " 31  Net Not Interesting Alert Reduction  135 non-null    float64\n",
      " 32  Min Val                              135 non-null    float64\n",
      " 33  Max Val                              135 non-null    float64\n",
      " 34  Alert Count                          135 non-null    int64  \n",
      " 35  Proposed Alert Count                 135 non-null    int64  \n",
      " 36  Proposed Alert Reduction             0 non-null      float64\n",
      "dtypes: float64(14), int64(10), object(13)\n",
      "memory usage: 39.2+ KB\n",
      "None\n",
      "Shape of Peter's ATL DataFrame: (135, 37)\n",
      "\n",
      "\n",
      "Structure of Venkat's ATL DataFrame:\n",
      "<class 'pandas.core.frame.DataFrame'>\n",
      "RangeIndex: 135 entries, 0 to 134\n",
      "Data columns (total 37 columns):\n",
      " #   Column                               Non-Null Count  Dtype  \n",
      "---  ------                               --------------  -----  \n",
      " 0   Rule Name                            135 non-null    object \n",
      " 1   Rule ID                              135 non-null    object \n",
      " 2   Population Group                     135 non-null    object \n",
      " 3   Parameter                            135 non-null    object \n",
      " 4   Is Tunable                           135 non-null    object \n",
      " 5   Parameter Type                       135 non-null    object \n",
      " 6   Operator                             135 non-null    object \n",
      " 7   ATL/BTL                              135 non-null    object \n",
      " 8   High/Low Priority                    135 non-null    object \n",
      " 9   Tuning Decision                      135 non-null    object \n",
      " 10  Current Threshold                    135 non-null    float64\n",
      " 11  Recommended Threshold                135 non-null    float64\n",
      " 12  Rationale                            135 non-null    object \n",
      " 13  SAR Attribution Analysis (Y/N)       135 non-null    object \n",
      " 14  AML Comments                         135 non-null    int64  \n",
      " 15  Date Range                           135 non-null    object \n",
      " 16  Num Alerts Extracted                 135 non-null    int64  \n",
      " 17  SARs Filed                           135 non-null    int64  \n",
      " 18  Interesting Alerts                   135 non-null    int64  \n",
      " 19  Not Interesting Alerts               135 non-null    int64  \n",
      " 20  Data Quality Alerts                  135 non-null    int64  \n",
      " 21  Effectiveness                        135 non-null    float64\n",
      " 22  SAR Yield                            135 non-null    float64\n",
      " 23  Prop SARs Filed                      135 non-null    int64  \n",
      " 24  Prop Interesting Alerts              135 non-null    int64  \n",
      " 25  Prop Not Interesting Alerts          135 non-null    int64  \n",
      " 26  Prop Effectiveness                   135 non-null    float64\n",
      " 27  Prop SAR Yield                       135 non-null    float64\n",
      " 28  Not Interesting Alert Reduction      135 non-null    float64\n",
      " 29  Net Effectiveness                    135 non-null    int64  \n",
      " 30  Net SAR Yield                        135 non-null    int64  \n",
      " 31  Net Not Interesting Alert Reduction  135 non-null    int64  \n",
      " 32  Min Val                              135 non-null    int64  \n",
      " 33  Max Val                              135 non-null    int64  \n",
      " 34  Alert Count                          135 non-null    int64  \n",
      " 35  Proposed Alert Count                 135 non-null    int64  \n",
      " 36  Proposed Alert Reduction             135 non-null    int64  \n",
      "dtypes: float64(7), int64(17), object(13)\n",
      "memory usage: 39.2+ KB\n",
      "None\n",
      "Shape of Venkat's ATL DataFrame: (135, 37)\n",
      "\n",
      "\n",
      "Structure of Peter's BTL DataFrame:\n",
      "<class 'pandas.core.frame.DataFrame'>\n",
      "RangeIndex: 48 entries, 0 to 47\n",
      "Data columns (total 25 columns):\n",
      " #   Column                       Non-Null Count  Dtype  \n",
      "---  ------                       --------------  -----  \n",
      " 0   Rule Name                    48 non-null     object \n",
      " 1   Rule ID                      48 non-null     object \n",
      " 2   Population Group             48 non-null     object \n",
      " 3   Parameter                    48 non-null     object \n",
      " 4   Is Tunable                   48 non-null     object \n",
      " 5   ATL/BTL                      48 non-null     object \n",
      " 6   High/Low Priority            48 non-null     object \n",
      " 7   Parameter Type               48 non-null     object \n",
      " 8   Operator                     48 non-null     object \n",
      " 9   Current Threshold            48 non-null     float64\n",
      " 10  BTL Threshold                48 non-null     int64  \n",
      " 11  Recommended Threshold        48 non-null     float64\n",
      " 12  Date Range                   48 non-null     object \n",
      " 13  Num Alerts Extracted         48 non-null     int64  \n",
      " 14  Num Alerts Sampled           48 non-null     int64  \n",
      " 15  Interesting Alerts           48 non-null     int64  \n",
      " 16  Not Interesting Alerts       48 non-null     int64  \n",
      " 17  Data Quality Alerts          48 non-null     int64  \n",
      " 18  Effectiveness                41 non-null     float64\n",
      " 19  Prop Interesting Alerts      48 non-null     int64  \n",
      " 20  Prop Not Interesting Alerts  48 non-null     int64  \n",
      " 21  Prop Effectiveness           34 non-null     float64\n",
      " 22  Net Effectiveness            20 non-null     float64\n",
      " 23  Min Val                      41 non-null     float64\n",
      " 24  Max Val                      41 non-null     float64\n",
      "dtypes: float64(7), int64(8), object(10)\n",
      "memory usage: 9.5+ KB\n",
      "None\n",
      "Shape of Peter's BTL DataFrame: (48, 25)\n",
      "\n",
      "\n",
      "Structure of Venkat's BTL DataFrame:\n",
      "<class 'pandas.core.frame.DataFrame'>\n",
      "RangeIndex: 48 entries, 0 to 47\n",
      "Data columns (total 27 columns):\n",
      " #   Column                       Non-Null Count  Dtype  \n",
      "---  ------                       --------------  -----  \n",
      " 0   Rule Name                    48 non-null     object \n",
      " 1   Rule ID                      48 non-null     object \n",
      " 2   Population Group             48 non-null     object \n",
      " 3   Parameter                    48 non-null     object \n",
      " 4   Is Tunable                   48 non-null     object \n",
      " 5   ATL/BTL                      48 non-null     object \n",
      " 6   High/Low Priority            48 non-null     object \n",
      " 7   Parameter Type               48 non-null     object \n",
      " 8   Operator                     48 non-null     object \n",
      " 9   Current Threshold            48 non-null     float64\n",
      " 10  BTL Threshold                48 non-null     int64  \n",
      " 11  Recommended Threshold        48 non-null     float64\n",
      " 12  Rationale                    48 non-null     object \n",
      " 13  AML Comments                 48 non-null     int64  \n",
      " 14  Date Range                   48 non-null     object \n",
      " 15  Num Alerts Extracted         48 non-null     int64  \n",
      " 16  Num Alerts Sampled           48 non-null     int64  \n",
      " 17  Interesting Alerts           48 non-null     int64  \n",
      " 18  Not Interesting Alerts       48 non-null     int64  \n",
      " 19  Data Quality Alerts          48 non-null     int64  \n",
      " 20  Effectiveness                48 non-null     float64\n",
      " 21  Prop Interesting Alerts      48 non-null     int64  \n",
      " 22  Prop Not Interesting Alerts  48 non-null     int64  \n",
      " 23  Prop Effectiveness           48 non-null     float64\n",
      " 24  Net Effectiveness            48 non-null     int64  \n",
      " 25  Min Val                      48 non-null     float64\n",
      " 26  Max Val                      48 non-null     float64\n",
      "dtypes: float64(6), int64(10), object(11)\n",
      "memory usage: 10.3+ KB\n",
      "None\n",
      "Shape of Venkat's BTL DataFrame: (48, 27)\n",
      "\n",
      "\n"
     ]
    }
   ],
   "source": [
    "# For ATL DataFrames\n",
    "print(\"Structure of Peter's ATL DataFrame:\")\n",
    "print(peter_output_atl.info())\n",
    "print(\"Shape of Peter's ATL DataFrame:\", peter_output_atl.shape)\n",
    "print(\"\\n\")\n",
    "\n",
    "print(\"Structure of Venkat's ATL DataFrame:\")\n",
    "print(venkat_output_atl.info())\n",
    "print(\"Shape of Venkat's ATL DataFrame:\", venkat_output_atl.shape)\n",
    "print(\"\\n\")\n",
    "\n",
    "# For BTL DataFrames\n",
    "print(\"Structure of Peter's BTL DataFrame:\")\n",
    "print(peter_output_btl.info())\n",
    "print(\"Shape of Peter's BTL DataFrame:\", peter_output_btl.shape)\n",
    "print(\"\\n\")\n",
    "\n",
    "print(\"Structure of Venkat's BTL DataFrame:\")\n",
    "print(venkat_output_btl.info())\n",
    "print(\"Shape of Venkat's BTL DataFrame:\", venkat_output_btl.shape)\n",
    "print(\"\\n\")\n"
   ]
  },
  {
   "cell_type": "code",
   "execution_count": 12,
   "metadata": {},
   "outputs": [
    {
     "name": "stdout",
     "output_type": "stream",
     "text": [
      "Are the BTL outputs the same? False\n"
     ]
    }
   ],
   "source": [
    "is_same = peter_output_btl.equals(venkat_output_btl)\n",
    "print(\"Are the BTL outputs the same?\", is_same)"
   ]
  },
  {
   "cell_type": "code",
   "execution_count": null,
   "metadata": {},
   "outputs": [],
   "source": []
  },
  {
   "cell_type": "code",
   "execution_count": null,
   "metadata": {},
   "outputs": [],
   "source": []
  }
 ],
 "metadata": {
  "kernelspec": {
   "display_name": "Python 3 (ipykernel)",
   "language": "python",
   "name": "python3"
  },
  "language_info": {
   "codemirror_mode": {
    "name": "ipython",
    "version": 3
   },
   "file_extension": ".py",
   "mimetype": "text/x-python",
   "name": "python",
   "nbconvert_exporter": "python",
   "pygments_lexer": "ipython3",
   "version": "3.12.2"
  }
 },
 "nbformat": 4,
 "nbformat_minor": 2
}
